{
 "cells": [
  {
   "cell_type": "markdown",
   "metadata": {},
   "source": [
    "Esta sección es la presentación del curso de fundamentos de programación en python 3 de la Organización Scalibur para la Investigación y la ciencia. Nuestro público objetivo son los niños y jóvenes beneficiarios de nuestro grupo de ciencia pero el material estará disponible para uso público.  \n",
    "\n",
    "# Contenido\n",
    "\n",
    "# MyBinder\n",
    "\n",
    "Puedes prácticar con nosotros programación en python 3 sin instalar python en tu equipo a traves del servicio de MyBinder. Si estas en la versión de MyBinder, podras ejecutar la siguiente celda en el navegador sin problemas.  "
   ]
  },
  {
   "cell_type": "code",
   "execution_count": null,
   "metadata": {},
   "outputs": [],
   "source": [
    "nombre = input(\"¿Cuál es tu nombre? Presiona enter después de digitar el nombre. \")\n",
    "print(\"La Organización Scalibur te da la bienvenida {}.\".format(nombre))"
   ]
  }
 ],
 "metadata": {
  "kernelspec": {
   "display_name": "Python 3",
   "language": "python",
   "name": "python3"
  },
  "language_info": {
   "codemirror_mode": {
    "name": "ipython",
    "version": 3
   },
   "file_extension": ".py",
   "mimetype": "text/x-python",
   "name": "python",
   "nbconvert_exporter": "python",
   "pygments_lexer": "ipython3",
   "version": "3.5.2"
  }
 },
 "nbformat": 4,
 "nbformat_minor": 2
}
