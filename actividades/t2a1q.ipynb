{
 "cells": [
  {
   "cell_type": "markdown",
   "metadata": {},
   "source": [
    "# Actividad de instalación de python\n",
    "\n",
    "Esta actividad se basa en la lectura [t2l1](../lecturas/t2l1.md).  \n",
    "\n",
    "+   ¿Que sistema operativo usas?  "
   ]
  },
  {
   "cell_type": "code",
   "execution_count": null,
   "metadata": {},
   "outputs": [],
   "source": []
  },
  {
   "cell_type": "markdown",
   "metadata": {},
   "source": [
    "+   ¿Tu procesador es de 32 bits o 64 bits?  "
   ]
  },
  {
   "cell_type": "code",
   "execution_count": null,
   "metadata": {},
   "outputs": [],
   "source": []
  },
  {
   "cell_type": "markdown",
   "metadata": {},
   "source": [
    "+   ¿Que versión de python descargaste? Si usas la versión en MyBinder, ¿que versión de python es?  "
   ]
  },
  {
   "cell_type": "code",
   "execution_count": null,
   "metadata": {},
   "outputs": [],
   "source": []
  },
  {
   "cell_type": "markdown",
   "metadata": {},
   "source": [
    "+   Pega el pantallazo de la ejecución de python en tu equipo abriendo _spyder_, en la cual has usado el código indicado en la lectura. Si usas MyBinder, debes crear una celda nueva de código `Insert > Insert Cell Bellow` y allí escribes el código, y para ejecutarlo debes ir a `Cell > Run Cells`.  "
   ]
  },
  {
   "cell_type": "code",
   "execution_count": null,
   "metadata": {},
   "outputs": [],
   "source": [
    "nombre = \"tu_nombre_va_aquí\"\n",
    "print(\"Hola {}\".format(nombre))"
   ]
  }
 ],
 "metadata": {
  "kernelspec": {
   "display_name": "Python 3",
   "language": "python",
   "name": "python3"
  },
  "language_info": {
   "codemirror_mode": {
    "name": "ipython",
    "version": 3
   },
   "file_extension": ".py",
   "mimetype": "text/x-python",
   "name": "python",
   "nbconvert_exporter": "python",
   "pygments_lexer": "ipython3",
   "version": "3.5.2"
  }
 },
 "nbformat": 4,
 "nbformat_minor": 2
}
