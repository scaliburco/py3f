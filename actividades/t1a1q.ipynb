{
 "cells": [
  {
   "cell_type": "markdown",
   "metadata": {},
   "source": [
    "# Actividad Operadores Aritméticos\n",
    "\n",
    "La actividad corresponde a la [Lenguajes de programación y python](../lecturas/t1l1.md).  \n",
    "\n",
    "Indique exclusivamente la respuesta sin procedimiento al lado del símbolo `=` de cada variable, reemplazando la respuesta por defecto `None`.  \n",
    "Si la respuesta es numérica, tenga en cuenta que solo es válido el uso del separador decimal `.`. No debe colocar otros separadores ni espacios, solo las cifras consecutivas.  \n",
    "Si la respuesta es texto, debe poner el texto entre comillas.  \n",
    "\n",
    "Ejemplo:  \n",
    "\n",
    "    \"Indique el resultado de 3+8.\"\n",
    "    p1 = 11  \n",
    "    \"Indique el resultado de 10/4.\"  \n",
    "    p2 = 2.5  \n",
    "    \"Indique el nombre del lenguaje que usaremos.\"\n",
    "    p3 = \"python\"\n",
    "    \"Indique su nombre completo.\"  \n",
    "    p4 = \"Edward Villegas\"\n",
    "\n",
    "Indique a continuación como respuesta, solo el número de la opción correcta.  "
   ]
  },
  {
   "cell_type": "markdown",
   "metadata": {},
   "source": [
    "+   __Indique cual de las siguientes opciones es falsa__  \n",
    "    1.  Un lenguaje de programación es un conjunto de palabras finito.  \n",
    "    1.  Un lenguaje de programación es ambiguo.  \n",
    "    1.  Un lenguaje de programación sirve para especificar instrucciones.  \n",
    "    1.  Las instrucciones dadas en el lenguaje de programación requieren de elementos intermedios para su ejecución en un computador.  "
   ]
  },
  {
   "cell_type": "markdown",
   "metadata": {},
   "source": [
    "p1 = None  "
   ]
  },
  {
   "cell_type": "markdown",
   "metadata": {},
   "source": [
    "+   __¿Cuál es la función de un interprete?__  \n",
    "    1.  Convertir un código fuente a código máquina.  \n",
    "    1.  Calcular la memoria requerida por un código para su ejecución.  \n",
    "    1.  Ejecutar las instrucciones de un código fuente en un computador.  \n",
    "    1.  Generar señales de voltaje en un computador.  "
   ]
  },
  {
   "cell_type": "markdown",
   "metadata": {},
   "source": [
    "p2 = None  "
   ]
  },
  {
   "cell_type": "markdown",
   "metadata": {},
   "source": [
    "+   __Si se desea un lenguaje para realizar un conjunto de tareas que pertenecen a un mismo tipo de tareas de forma óptima, se podría recomendar:__  \n",
    "    1.  Un lenguaje de propósito general.  \n",
    "    1.  Un lenguaje de tipado fuerte.  \n",
    "    1.  Un lenguaje compilador.  \n",
    "    1.  Un lenguaje de propósito específico.  "
   ]
  },
  {
   "cell_type": "markdown",
   "metadata": {},
   "source": [
    "p3 = None  "
   ]
  },
  {
   "cell_type": "markdown",
   "metadata": {},
   "source": [
    "+   __¿Puede ejecutarse un mismo código compilador en cualquier procesador y sistema operativo?__  \n",
    "    1.  Si, porque el código no cambia.  \n",
    "    1.  No, porque siempre toca compilar antes de ejecutar.  \n",
    "    1.  No, porque el código compilado varia según el procesador o sistema operativo.  \n",
    "    1.  Si, siempre solo que va a funcionar más lento.  "
   ]
  },
  {
   "cell_type": "markdown",
   "metadata": {},
   "source": [
    "p4 = None  "
   ]
  },
  {
   "cell_type": "markdown",
   "metadata": {},
   "source": [
    "+   __¿Funciona python solo en el sistema operativo windows?__  \n",
    "    1.  Si, como es multiplataforma solo implica que funciona en distintos procesadores.  \n",
    "    1.  No, también funciona en otros, pues el concepto de multiplataforma se refiere a los sistemas operativos.  \n",
    "    1.  Si, porque windows es el único sistema operativo que existe.  \n",
    "    1.  No, porque cualquier programa funciona siempre en todos los sistemas operativos que existen.  "
   ]
  },
  {
   "cell_type": "markdown",
   "metadata": {},
   "source": [
    "p5 = None  "
   ]
  },
  {
   "cell_type": "markdown",
   "metadata": {},
   "source": [
    "+   __¿Cuál es la versión de python recomendada?__  \n",
    "    1.  Python 2.  \n",
    "    1.  Phyton 2.  \n",
    "    1.  Phyton 3.  \n",
    "    1.  Python 3.  "
   ]
  },
  {
   "cell_type": "markdown",
   "metadata": {},
   "source": [
    "p6 = None"
   ]
  }
 ],
 "metadata": {
  "kernelspec": {
   "display_name": "Python 3",
   "language": "python",
   "name": "python3"
  },
  "language_info": {
   "codemirror_mode": {
    "name": "ipython",
    "version": 3
   },
   "file_extension": ".py",
   "mimetype": "text/x-python",
   "name": "python",
   "nbconvert_exporter": "python",
   "pygments_lexer": "ipython3",
   "version": "3.5.2"
  }
 },
 "nbformat": 4,
 "nbformat_minor": 2
}
