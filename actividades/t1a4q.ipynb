{
 "cells": [
  {
   "cell_type": "markdown",
   "metadata": {},
   "source": [
    "# Actividad Jerarquía de operadores\n",
    "\n",
    "La actividad corresponde a la [lectura de jerarquía de operadores](../lecturas/t1l4.ipynb).  \n",
    "\n",
    "Indique exclusivamente la respuesta sin procedimiento al lado del símbolo `=` de cada variable, reemplazando la respuesta por defecto `None`.  \n",
    "Si la respuesta es numérica, tenga en cuenta que solo es válido el uso del separador decimal `.`. No debe colocar otros separadores ni espacios, solo las cifras consecutivas.  \n",
    "Si la respuesta es texto, debe poner el texto entre comillas.  \n",
    "Si la respuesta es `True` (en reemplazo de V) o `False` (en reemplazo de F), indíquelo sin comillas.  \n",
    "\n",
    "Ejemplo:  \n",
    "\n",
    "    \"Indique el resultado de 3+8.\"\n",
    "    p1 = 11  \n",
    "    \"Indique el resultado de 10/4.\"  \n",
    "    p2 = 2.5  \n",
    "    \"Indique el nombre del lenguaje que usaremos.\"\n",
    "    p3 = \"python\"\n",
    "    \"Indique su nombre completo.\"  \n",
    "    p4 = \"Edward Villegas\"\n",
    "    \"La raíz cuadrada de 4 es 2.\"\n",
    "    p5 = True"
   ]
  },
  {
   "cell_type": "markdown",
   "metadata": {},
   "source": [
    "+   Indique el resultado de $5 + 3 \\times 2 - 4 / 4$.  "
   ]
  },
  {
   "cell_type": "code",
   "execution_count": null,
   "metadata": {},
   "outputs": [],
   "source": [
    "p1 = None  "
   ]
  },
  {
   "cell_type": "markdown",
   "metadata": {},
   "source": [
    "+   Indique el valor de verdad de $\\neg  \\text{V} \\wedge \\text{F}$.  "
   ]
  },
  {
   "cell_type": "code",
   "execution_count": null,
   "metadata": {},
   "outputs": [],
   "source": [
    "p2 = None"
   ]
  },
  {
   "cell_type": "markdown",
   "metadata": {},
   "source": [
    "+   Indique el resultado de $20+150/5$.  "
   ]
  },
  {
   "cell_type": "code",
   "execution_count": null,
   "metadata": {},
   "outputs": [],
   "source": [
    "p3 = None"
   ]
  },
  {
   "cell_type": "markdown",
   "metadata": {},
   "source": [
    "+   Indique el valor de verdad de $\\text{F}\\vee \\neg \\text{F} \\vee \\text{F}$.  "
   ]
  },
  {
   "cell_type": "code",
   "execution_count": null,
   "metadata": {},
   "outputs": [],
   "source": [
    "p4 = None"
   ]
  },
  {
   "cell_type": "markdown",
   "metadata": {},
   "source": [
    "+   Indique el resultado de $4 \\times (5 + 1) / 12$.  "
   ]
  },
  {
   "cell_type": "code",
   "execution_count": null,
   "metadata": {},
   "outputs": [],
   "source": [
    "p5 = None"
   ]
  }
 ],
 "metadata": {
  "kernelspec": {
   "display_name": "Python 3",
   "language": "python",
   "name": "python3"
  },
  "language_info": {
   "codemirror_mode": {
    "name": "ipython",
    "version": 3
   },
   "file_extension": ".py",
   "mimetype": "text/x-python",
   "name": "python",
   "nbconvert_exporter": "python",
   "pygments_lexer": "ipython3",
   "version": "3.5.2"
  }
 },
 "nbformat": 4,
 "nbformat_minor": 2
}
