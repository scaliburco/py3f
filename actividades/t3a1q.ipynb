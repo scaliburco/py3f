{
 "cells": [
  {
   "cell_type": "markdown",
   "metadata": {},
   "source": [
    "# Actividad de tipos de datos (parte 1)\n",
    "\n",
    "1.  Con ayuda de python, verifique los resultados de dos preguntas de la actividad [t1a4](t1a4q.md), y una pregunta de la actividad [t1a2](t1a2q.md) al igual que de la actividad [t1a3](t1a3q.md).  \n",
    "1.  Considera información que consultara sobre la Luna (satélite natural de la Tierra).  \n",
    "    1.  Almacene en variables los datos de masa y radio de la Luna, al igual que la constante de gravitación.  \n",
    "    1.  Use la fórmula para el cálculo de la aceleración gravitacional para determinar la aceleración gravitacional en la superficie lunar. $g = G\\frac{M}{R^{2}}$.  \n",
    "    1.  Almacene en una variable el valor de la aceleración gravitacional de la Tierra (consultelo).  \n",
    "    1.  ¿Es cierto que la gravedad lunar es un sexto de la gravedad terrestre? Use operaciones en python con las variables almacenadas para justificar su respuesta.  \n",
    "1.  Considere información de Júpiter y Saturno (planetas del sistema solar) que almacenará en variables y responda usando comparaciones de python.  \n",
    "    1.  ¿La cantidad de satélites naturales de Júpiter y Saturno son iguales?  \n",
    "    1.  ¿La aceleración gravitacional en la superficie de Júpiter es mayor que la sufrida en Saturno?  \n",
    "    1.  ¿El periodo de rotación de Saturno es menor que el periodo de rotación de Júpiter?  \n",
    "1.  Considere la definición de un año luz.  \n",
    "    1.  Almacene en variables la velocidad de la luz en m/s.  \n",
    "    1.  Almacene en una variable el resultado de convertir un año en segundos (¡ojo! conversión, o sea usando operaciones).  \n",
    "    1.  Cálcule con ayuda de python cuantos metros son un año luz.  \n",
    "    1.  Dado un cuerpo ubicado a una distancia de 10e10 metros del sol, usando python ¿es una distancia mayor a un año luz?  "
   ]
  }
 ],
 "metadata": {
  "kernelspec": {
   "display_name": "Python 3",
   "language": "python",
   "name": "python3"
  },
  "language_info": {
   "codemirror_mode": {
    "name": "ipython",
    "version": 3
   },
   "file_extension": ".py",
   "mimetype": "text/x-python",
   "name": "python",
   "nbconvert_exporter": "python",
   "pygments_lexer": "ipython3",
   "version": "3.5.2"
  }
 },
 "nbformat": 4,
 "nbformat_minor": 2
}
