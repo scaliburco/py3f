{
 "cells": [
  {
   "cell_type": "markdown",
   "metadata": {},
   "source": [
    "# Actividad de tipos de datos (parte 1)\n",
    "\n",
    "+   Con ayuda de python, verifique los resultados de dos preguntas de la actividad [t1a4](t1a4q.ipynb), y una pregunta de la actividad [t1a2](t1a2q.ipynb) al igual que de la actividad [t1a3](t1a3q.ipynb).  "
   ]
  },
  {
   "cell_type": "code",
   "execution_count": null,
   "metadata": {},
   "outputs": [],
   "source": []
  },
  {
   "cell_type": "markdown",
   "metadata": {},
   "source": [
    "+   Considera información que consultara sobre la Luna (satélite natural de la Tierra).  \n",
    "    +   Almacene en variables los datos de masa y radio de la Luna, al igual que la constante de gravitación.  \n",
    "    +   Use la fórmula para el cálculo de la aceleración gravitacional para determinar la aceleración gravitacional en la superficie lunar. $g = G\\frac{M}{R^{2}}$.  \n",
    "    +   Almacene en una variable el valor de la aceleración gravitacional de la Tierra (consultelo).  \n",
    "    +   ¿Es cierto que la gravedad lunar es aproximadamente un sexto de la gravedad terrestre? Use operaciones en python con las variables almacenadas para justificar su respuesta.  \n",
    "    "
   ]
  },
  {
   "cell_type": "code",
   "execution_count": null,
   "metadata": {},
   "outputs": [],
   "source": []
  },
  {
   "cell_type": "markdown",
   "metadata": {},
   "source": [
    "+   Considere información de Júpiter y Saturno (planetas del sistema solar) que almacenará en variables y responda usando comparaciones de python.  \n",
    "    +   ¿La cantidad de satélites naturales de Júpiter y Saturno son iguales?  \n",
    "    +   ¿La aceleración gravitacional en la superficie de Júpiter es mayor que la sufrida en Saturno?  \n",
    "    +   ¿El periodo de rotación de Saturno es menor que el periodo de rotación de Júpiter?  \n",
    "    "
   ]
  },
  {
   "cell_type": "code",
   "execution_count": null,
   "metadata": {},
   "outputs": [],
   "source": []
  },
  {
   "cell_type": "markdown",
   "metadata": {},
   "source": [
    "+   Considere la definición de un año luz.  \n",
    "    +   Almacene en variables la velocidad de la luz en m/s.  \n",
    "    +   Almacene en una variable el resultado de convertir un año en segundos (¡ojo! conversión, o sea usando operaciones).  \n",
    "    +   Cálcule con ayuda de python y las variables ya almacenadas, el valor en metros de un año luz.  \n",
    "    +   Dado un cuerpo ubicado a una distancia de 10e10 metros del sol, usando python ¿es una distancia mayor a un año luz?  "
   ]
  },
  {
   "cell_type": "code",
   "execution_count": null,
   "metadata": {},
   "outputs": [],
   "source": []
  }
 ],
 "metadata": {
  "kernelspec": {
   "display_name": "Python 3",
   "language": "python",
   "name": "python3"
  },
  "language_info": {
   "codemirror_mode": {
    "name": "ipython",
    "version": 3
   },
   "file_extension": ".py",
   "mimetype": "text/x-python",
   "name": "python",
   "nbconvert_exporter": "python",
   "pygments_lexer": "ipython3",
   "version": "3.5.2"
  }
 },
 "nbformat": 4,
 "nbformat_minor": 2
}
