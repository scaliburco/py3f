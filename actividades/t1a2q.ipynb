{
 "cells": [
  {
   "cell_type": "markdown",
   "metadata": {},
   "source": [
    "# Actividad Operadores Aritméticos\n",
    "\n",
    "La actividad corresponde a la [lectura de operadores aritméticos](../lecturas/t1l2.ipynb).  \n",
    "\n",
    "Indique exclusivamente la respuesta sin procedimiento al lado del símbolo `=` de cada variable, reemplazando la respuesta por defecto `None`.  \n",
    "Si la respuesta es numérica, tenga en cuenta que solo es válido el uso del separador decimal `.`. No debe colocar otros separadores ni espacios, solo las cifras consecutivas.  \n",
    "Si la respuesta es texto, debe poner el texto entre comillas.  \n",
    "\n",
    "Ejemplo:  \n",
    "\n",
    "    \"Indique el resultado de 3+8.\"\n",
    "    p1 = 11  \n",
    "    \"Indique el resultado de 10/4.\"  \n",
    "    p2 = 2.5  \n",
    "    \"Indique el nombre del lenguaje que usaremos.\"\n",
    "    p3 = \"python\"\n",
    "    \"Indique su nombre completo.\"  \n",
    "    p4 = \"Edward Villegas\"\n",
    "\n",
    "Indique a continuación como respuesta, solo el número de la opción correcta.  "
   ]
  },
  {
   "cell_type": "markdown",
   "metadata": {},
   "source": [
    "+   __El operador factorial es un operador__:  \n",
    "    1.  Ternario.  \n",
    "    1.  Unario.  \n",
    "    1.  Binario.  \n",
    "    1.  Secundario.  "
   ]
  },
  {
   "cell_type": "code",
   "execution_count": null,
   "metadata": {},
   "outputs": [],
   "source": [
    "p1 = None  "
   ]
  },
  {
   "cell_type": "markdown",
   "metadata": {},
   "source": [
    "+   __El operador módulo es un operador que aplica sobre__:  \n",
    "    1.  Números reales positivos.  \n",
    "    1.  Números enteros positivos.  \n",
    "    1.  Números reales.  \n",
    "    1.  Números enteros.  "
   ]
  },
  {
   "cell_type": "code",
   "execution_count": null,
   "metadata": {},
   "outputs": [],
   "source": [
    "p2 = None"
   ]
  },
  {
   "cell_type": "markdown",
   "metadata": {},
   "source": [
    "+   __El símbolo del operador potenciación en python es__:  \n",
    "    1.  `**`.  \n",
    "    1.  `^`.  \n",
    "    1.  `pot`.  \n",
    "    1.  `-1`.  "
   ]
  },
  {
   "cell_type": "code",
   "execution_count": null,
   "metadata": {},
   "outputs": [],
   "source": [
    "p3 = None"
   ]
  },
  {
   "cell_type": "markdown",
   "metadata": {},
   "source": [
    "+   __El símbolo del operador división en python es__:  \n",
    "    1.  `+`.  \n",
    "    1.  `*`.  \n",
    "    1.  $\\div$.  \n",
    "    1.  `/`.  "
   ]
  },
  {
   "cell_type": "code",
   "execution_count": null,
   "metadata": {},
   "outputs": [],
   "source": [
    "p4 = None"
   ]
  },
  {
   "cell_type": "markdown",
   "metadata": {},
   "source": [
    "+   __¿Cuál es el factorial de 5?__:  "
   ]
  },
  {
   "cell_type": "code",
   "execution_count": null,
   "metadata": {},
   "outputs": [],
   "source": [
    "p5 = None"
   ]
  },
  {
   "cell_type": "markdown",
   "metadata": {},
   "source": [
    "+   __Indique el resultado de $-6/4$__:  "
   ]
  },
  {
   "cell_type": "code",
   "execution_count": null,
   "metadata": {},
   "outputs": [],
   "source": [
    "p6= None"
   ]
  },
  {
   "cell_type": "markdown",
   "metadata": {},
   "source": [
    "+   __Determine el inverso multiplicativo de $0.2$?__:  "
   ]
  },
  {
   "cell_type": "code",
   "execution_count": null,
   "metadata": {},
   "outputs": [],
   "source": [
    "p7 = None"
   ]
  },
  {
   "cell_type": "markdown",
   "metadata": {},
   "source": [
    "+   __Calcule el `11%4`__:  "
   ]
  },
  {
   "cell_type": "code",
   "execution_count": null,
   "metadata": {},
   "outputs": [],
   "source": [
    "p8 = None"
   ]
  },
  {
   "cell_type": "markdown",
   "metadata": {},
   "source": [
    "+   __El resultado de $5-11$ es__:  "
   ]
  },
  {
   "cell_type": "code",
   "execution_count": null,
   "metadata": {},
   "outputs": [],
   "source": [
    "p9 = None"
   ]
  },
  {
   "cell_type": "markdown",
   "metadata": {},
   "source": [
    "+   __El valor resultante de $(-8)+(-3)$ es__:  "
   ]
  },
  {
   "cell_type": "code",
   "execution_count": null,
   "metadata": {},
   "outputs": [],
   "source": [
    "p10 = None"
   ]
  }
 ],
 "metadata": {
  "kernelspec": {
   "display_name": "Python 3",
   "language": "python",
   "name": "python3"
  },
  "language_info": {
   "codemirror_mode": {
    "name": "ipython",
    "version": 3
   },
   "file_extension": ".py",
   "mimetype": "text/x-python",
   "name": "python",
   "nbconvert_exporter": "python",
   "pygments_lexer": "ipython3",
   "version": "3.5.2"
  }
 },
 "nbformat": 4,
 "nbformat_minor": 2
}
