{
 "cells": [
  {
   "cell_type": "markdown",
   "metadata": {},
   "source": [
    "# Jerarquía de operadores\n",
    "\n",
    "Cuando vamos a hacer uso de los distintos operadores existentes en nuestros lenguajes\n",
    "de programación, estos operadores cumplen al igual que los operadores aritméticos tal como\n",
    "se ve en un curso de matemáticas, una jerarquía.  \n",
    "\n",
    "La jerarquía de los operadores determina en una secuencia de operaciones que no poseen\n",
    "agrupamiento (paréntesis, corchetes, llaves o cualquier otro agrupamiento posible),\n",
    "que operación debe realizarse primero que otra, o sea, la precedencia o prioridad\n",
    "de los operadores.  \n",
    "\n",
    "Un ejemplo de esto, son los famosos problemas virales de cuanto da una operación aritmética\n",
    "simple, en donde lo único raro es que tendemos a operar en el orden visual y no el orden dado\n",
    "por la jerarquía (tema que se ve en el colegio). Prueba por el momento con esta operación:\n",
    "$5 + 3 \\times 2 - 4 / 4$.  "
   ]
  },
  {
   "cell_type": "markdown",
   "metadata": {},
   "source": [
    "## Listado de precedencia\n",
    "\n",
    "El orden en el cual deben ejecutarse las operaciones antes vistas (lecciones T1L2 y T1L3), corresponde al orden de la siguiente tabla (arriba mayor precedencia, y en la misma fila aplica mayor precedencia a la izquierda).  \n",
    "\n",
    "| Operación | Operador (python)|  \n",
    "|:---|:---:|  \n",
    "| Potenciación | `**` |  \n",
    "| Signo numérico | `+`, `-` |  \n",
    "| Multiplicación, división y módulo | `*`, `/`, `%` |  \n",
    "| Suma y resta | `+`, `-` |  \n",
    "| \"Y\" (por bits) | `&` |  \n",
    "| \"O\" exclusiva y \"O\" (por bits) | `^`, `|` |  \n",
    "| Operadores de comparación | `<=`, `<`, `>`, `>=` |  \n",
    "| Operadores de igualdad | `<>`, `==`, `!=` |  \n",
    "| Operadores de asignación | `=` |  \n",
    "| Operadores de identidad | `is`, `is not` |  \n",
    "| Operadores de membresía | `in`, `not in` |  \n",
    "| Operadores lógicos | `not`, `or`, `and` |  \n",
    "\n",
    "Si requerimos que el orden no sea el dado por la precedencia mencionada, es necesario poner la operación necesario en paréntesis.  \n",
    "\n",
    "Como ejemplo, $7 + 3 \\times 2$ no es 20 sino 13, porque la multiplicación (como se observa en\n",
    "la tabla) posee mayor precedencia o prioridad en la jerarquía que la suma, así que entre las dos operaciones que posee el número 3 a su lado, debe hacer primero la multiplicación. Si queremos hacer primero la suma, debería ser $(7+3)\\times 2$.  \n",
    "\n",
    "Así, en general, no solo un número sino un valor de una variable opera primero con el operador de mayor precedencia entre los dos operadores que posee a sus lados. Ya sabrás entonces que el resultado de la primera operación no es 3 ¿cuanto es?  "
   ]
  },
  {
   "cell_type": "markdown",
   "metadata": {},
   "source": [
    "## Fuentes\n",
    "\n",
    "[_The Python Language Reference: Expresions - Operator precedence_](https://docs.python.org/3/reference/expressions.html#operator-precedence). _Python Documentation_. Consultado el 13 de septiembre de 2017.  \n",
    "\n",
    "[_Python Operators Precedence Example_](https://www.tutorialspoint.com/python/operators_precedence_example.htm). Consultado el 13 de septiembre de 2017.  "
   ]
  },
  {
   "cell_type": "markdown",
   "metadata": {},
   "source": [
    "## Actividad\n",
    "\n",
    "Solucione la actividad __T1A4__ directamente en el archivo que contiene los enunciados, reemplazando la respuesta por defecto `None` por la respuesta que usted considere (en el formato adecuado indicado por el enunciado).  \n",
    "\n",
    "Enunciados en el archivo [`t1a4q`](../actividades/t1a4q.ipynb).  "
   ]
  }
 ],
 "metadata": {
  "kernelspec": {
   "display_name": "Python 3",
   "language": "python",
   "name": "python3"
  },
  "language_info": {
   "codemirror_mode": {
    "name": "ipython",
    "version": 3
   },
   "file_extension": ".py",
   "mimetype": "text/x-python",
   "name": "python",
   "nbconvert_exporter": "python",
   "pygments_lexer": "ipython3",
   "version": "3.5.2"
  }
 },
 "nbformat": 4,
 "nbformat_minor": 2
}
