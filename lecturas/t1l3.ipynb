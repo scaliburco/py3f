{
 "cells": [
  {
   "cell_type": "markdown",
   "metadata": {},
   "source": [
    "# Valores booleanos y operadores\n",
    "\n",
    "A parte de los números, existen otros elementos típicos de las matemáticas que veremos reflejados a la hora de programar son los llamados valores booleanos, valores de verdad o valores lógicos.  \n",
    "\n",
    "Estos valores tienen solo dos opciones, una asociada al valor de verdad (V o 1) y otra asociada al valor de falso (F o 0).  \n",
    "\n",
    "Asociados a estos valores, existen dos tipos de operadores que nos importan. Los operadores lógicos que aplican sobre valores booleanos y producen otro valor booleanos, y los operadores relacionales o de comparación que se aplican sobre otros tipos de valores no booleanos pero su resultado si es booleano.  "
   ]
  },
  {
   "cell_type": "markdown",
   "metadata": {},
   "source": [
    "## Operadores lógicos\n",
    "\n",
    "Los operadores lógicos (también llamados booleanos) son aquellos operadores que intervienen en la lógica proposicional y tablas de verdad, y ayudan a establecer el valor de verdad (verdadero o falso) de una expresión completa a partir del valor de verdad de sus partes.  \n",
    "\n",
    "Se refieren como booleanos porque aplican sobre elementos de valores booleanos (1 o 0 -equivalente a verdadero o falso-).  "
   ]
  },
  {
   "cell_type": "markdown",
   "metadata": {},
   "source": [
    "### Proposiciones lógicas\n",
    "\n",
    "Las proposiciones lógicas son enunciados a los cuales se puede establecer un valor de verdad o falsedad. Simbólicamente a estos enunciados se les puede asociar una variable, así como en el álgebra se le asocian variables a los números para indicar una generalidad.  \n",
    "\n",
    "+   _Un triángulo tiene 3 lados_: Es una proposición cuyo valor de verdad es verdadero.  \n",
    "+   _Un cuadrado tiene 3 vértices_: Es una proposición de valor de verdad es falso.  \n",
    "\n",
    "Para los ejemplos de los operadores, diremos que nuestra primera proposición es $p$ y nuestra segunda proposición es $q$.  "
   ]
  },
  {
   "cell_type": "markdown",
   "metadata": {},
   "source": [
    "### Operadores unarios\n",
    "\n",
    "Al igual que en los operadores aritméticos, en los operadores lógicos existen operadores que pueden aplicar sobre uno o dos elementos. En este caso, tenemos como operador unario el operador de negación.  \n",
    "\n",
    "| Operador (signo) | Operación (nombre) | Efecto |  \n",
    "|:---:|---|---|  \n",
    "| $\\neg$ | Negación | Niega el valor de verdad de la proposición dada (cambia entre verdadero y falso). |  "
   ]
  },
  {
   "cell_type": "markdown",
   "metadata": {},
   "source": [
    "### Operadores binarios\n",
    "\n",
    "Si bien en la lógica proposicional nos encontraremos muchos más operadores, para la lógica requerida en programación bastará el unario mencionado anteriormente y los dos binarios siguientes. Cualquier operador lógico adicional que pueda requerirse, siempre podrá ser construido con estos tres, usando las leyes de Morgan.  \n",
    "\n",
    "| Operador (signo) | Operación (nombre) | Efecto |  \n",
    "|:---:|---|---|\n",
    "| $\\wedge$ | Conjunción / intersección (y) | Es verdadero solo si los dos elementos son verdaderos, de lo contrario es falso. |\n",
    "| $\\vee$ | Disyunción / unión (o) | Es falso solo si los dos elementos son falsos, de lo contrario es verdadero. |"
   ]
  },
  {
   "cell_type": "markdown",
   "metadata": {},
   "source": [
    "## Operadores relacionales\n",
    "\n",
    "Los operadores relacionales o de comparación son operadores binarios que determinan un tipo de relación entre los dos elementos que le rodean, y generan un valor verdadero si se cumple la relación dada por el operador o falso en caso contrario.  \n",
    "\n",
    "Aplicado a los valores numéricos cumplen las propiedades asociadas al orden existente en la recta numérica, pero también pueden ser aplicados sobre otros tipos de datos como se verá después.  \n",
    "\n",
    "| Operador (signo) | Operación (nombre) | Efecto |  \n",
    "|:---:|---|---|  \n",
    "| $\\gt$ | Mayor que | Determina si el elemento izquierdo es mayor que el elemento derecho. |  \n",
    "| $\\geq$ | Mayor o igual que | Determina si el elemento izquierdo es mayor o igual que el derecho. |  \n",
    "| $\\lt$ | Menor que | Determina si el elemento izquierdo es menor que el elemento derecho. |  \n",
    "| $\\leq$ | Menor o igual que | Determina si el elemento izquierdo es menor o igual que el elemento derecho. |  \n",
    "| $=$ | Igual que | Determina si los dos elementos son iguales. |  \n",
    "| $\\neq$ | Diferente de | Determina si los dos elementos son diferentes. |  \n",
    "\n",
    "Los últimos dos pueden ser confusos en algunos lenguajes de programación, como en python, cuando se conoce a los operadores de identidad y no identidad. Estos se encargan de definir si dos elementos son el mismo elemento (posición de memoria más no identidad de su valor).  \n",
    "\n",
    "Igualmente existen los operadores de membresía, de la teoría de conjuntos.  \n",
    "\n",
    "| Operador (signo) | Operación (nombre) | Efecto |  \n",
    "|:---:|---|---|  \n",
    "| $\\in$ | Pertenece | Indica si el elemento de la izquierda pertenece al conjunto de la derecha. |  \n",
    "| $\\notin$ | No pertenece | Indica si el elemento de la izquierda no pertenece al conjunto de la derecha. |  "
   ]
  },
  {
   "cell_type": "markdown",
   "metadata": {},
   "source": [
    "## Al programar\n",
    "\n",
    "Los operadores vistos en esta sección se representan de formas diversas según los lenguajes de programación.  \n",
    "\n",
    "| Operación | Notación habitual | Notación Python |  \n",
    "|:---:|---|---|  \n",
    "| Negación | $\\neg$ | `not` |\n",
    "| Conjunción | $\\wedge$ | `and` |\n",
    "| Disyunción | $\\vee$ | `or` |\n",
    "| Mayor que | $\\gt$ | `>` |\n",
    "| Mayor o igual que | $\\geq$ | `>=` |\n",
    "| Menor que | $\\lt$ | `<` |\n",
    "| Menor o igual que | $\\leq$ | `<=` |\n",
    "| Igual que | $=$ | `==` |\n",
    "| Diferente que | $\\neq$ | `!=` |\n",
    "| Idéntico que | | `is` |\n",
    "| No idéntico que | | `is not` |\n",
    "| Pertenece a | $\\in$ | `in` |\n",
    "| No pertenece a | $\\notin$ | `not in` |  \n",
    "\n",
    "Respecto a los valores, lo verdadero se define como `True` y lo falso como `False`.  "
   ]
  },
  {
   "cell_type": "markdown",
   "metadata": {},
   "source": [
    "## Actividad\n",
    "\n",
    "Solucione la actividad __T1A3__ directamente en el archivo que contiene los enunciados, reemplazando la respuesta por defecto `None` por la respuesta que usted considere (en el formato adecuado indicado por el enunciado).  \n",
    "\n",
    "Enunciados en el archivo [`t1a3q`](../actividades/t1a3q.ipynb).  "
   ]
  }
 ],
 "metadata": {
  "kernelspec": {
   "display_name": "Python 3",
   "language": "python",
   "name": "python3"
  },
  "language_info": {
   "codemirror_mode": {
    "name": "ipython",
    "version": 3
   },
   "file_extension": ".py",
   "mimetype": "text/x-python",
   "name": "python",
   "nbconvert_exporter": "python",
   "pygments_lexer": "ipython3",
   "version": "3.5.2"
  }
 },
 "nbformat": 4,
 "nbformat_minor": 2
}
