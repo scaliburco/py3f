{
 "cells": [
  {
   "cell_type": "markdown",
   "metadata": {},
   "source": [
    "# Numpy\n",
    "\n",
    "Numpy es una biblioteca de cálculo numérico para Python que da soporte para vectores y matrices, funciones para algebra lineal, generación de valores aleatorios, aplicación de transformadas de Fourier, polinomios, estadística y funciones matemáticas. Las funciones matemáticas disponibles en Numpy se diferencian de las disponibles en el módulo `math` de Python en el soporte a los arreglos de Numpy (como vectores y matrices).\n",
    "\n",
    "Si usas Anaconda este paquete ya viene instalado por defecto pero si se usa miniconda o pip debe instalarse.\n",
    "\n",
    "    conda install numpy # Usando el gestor conda de Anaconda/Miniconda\n",
    "    pip install numpy # Usando el gestor pip (puede requerir instalar más paquetes)"
   ]
  },
  {
   "cell_type": "markdown",
   "metadata": {},
   "source": [
    "Para comenzar a usarlo debemos importar el módulo."
   ]
  },
  {
   "cell_type": "code",
   "execution_count": 1,
   "metadata": {},
   "outputs": [],
   "source": [
    "import numpy as np # Se importa y se asocia el alias `np`."
   ]
  },
  {
   "cell_type": "markdown",
   "metadata": {},
   "source": [
    "## Arreglos\n",
    "\n",
    "El elemento fundamental en Numpy son los arreglos (`ndarray` o `array`) que son de alguna forma un equivalente a las matrices. Los arreglos pueden tener una o más dimensiones (también llamados ejes), permitiendo distinguir de forma natural los vectores cuando se posee un solo eje."
   ]
  },
  {
   "cell_type": "code",
   "execution_count": 12,
   "metadata": {},
   "outputs": [],
   "source": [
    "A = np.array([[0, 5, 1], [7, 2, 6], [4, 8, 2]]) # Listas dentro de listas son filas de la matriz\n",
    "b = np.array([1, 7, 6]) # Una lista genera un vector"
   ]
  },
  {
   "cell_type": "code",
   "execution_count": 13,
   "metadata": {},
   "outputs": [
    {
     "name": "stdout",
     "output_type": "stream",
     "text": [
      "2\n",
      "1\n",
      "(3, 3)\n",
      "(3,)\n",
      "9\n",
      "3\n"
     ]
    }
   ],
   "source": [
    "print(A.ndim) # Número de ejes: 2\n",
    "print(b.ndim) # Número de ejes: 1\n",
    "print(A.shape) # Dimensión o forma: (3, 3)\n",
    "print(b.shape) # Dimension o forma: (3,)\n",
    "print(A.size) # Total de elementos: 9\n",
    "print(b.size) # Total de elementos: 3"
   ]
  },
  {
   "cell_type": "markdown",
   "metadata": {},
   "source": [
    "La información de la dimensión y del acceso a los elementos (indexación) usa la información en orden del eje 0 en adelante. El eje 0 es el dado por el conjunto de elementos más externo. En un vector, al solo tener un eje, su único índice corresponde al orden de los elementos en el vector. En una matriz, el primer índice equivale al orden de las listas las cuales definen las filas y el segundo índice es el orden de elementos en dichas listas (equivalente a la columna)."
   ]
  },
  {
   "cell_type": "code",
   "execution_count": 18,
   "metadata": {},
   "outputs": [
    {
     "name": "stdout",
     "output_type": "stream",
     "text": [
      "5\n",
      "1\n",
      "[5 2 8]\n",
      "[0 7]\n",
      "[[5 1]\n",
      " [2 6]]\n"
     ]
    }
   ],
   "source": [
    "print(A[0, 1]) # Imprime el elemento de la fila 0 y columna 1: 5\n",
    "print(b[0]) # Imprime el elemento 0 del vector: 1\n",
    "print(A[:, 1]) # `:` representa todos. Muestra la columna 1. También se usa para rangos.\n",
    "print(A[:2, 0]) # Extrae un vector dado por la columna 0 y las filas 0 y 1.\n",
    "print(A[0:2, 1:]) # Submatriz"
   ]
  },
  {
   "cell_type": "markdown",
   "metadata": {},
   "source": [
    "## Arreglos especiales\n",
    "\n",
    "Numpy define algunos arreglos especiales para su rápida creación, que de otra forma impricarían múltiples líneas para su inicialización. Algunos son:"
   ]
  },
  {
   "cell_type": "code",
   "execution_count": 33,
   "metadata": {},
   "outputs": [
    {
     "name": "stdout",
     "output_type": "stream",
     "text": [
      "[1. 1.]\n",
      "[[0. 0. 0.]\n",
      " [0. 0. 0.]]\n",
      "[[1. 0. 0.]\n",
      " [0. 1. 0.]\n",
      " [0. 0. 1.]]\n",
      "[2.  2.5 3.  3.5 4.  4.5]\n",
      "[1.  1.2 1.4 1.6 1.8 2.  2.2 2.4 2.6 2.8 3. ]\n",
      "[[0.08080112 0.55828012]\n",
      " [0.92728618 0.27592113]\n",
      " [0.12652931 0.95845511]]\n"
     ]
    }
   ],
   "source": [
    "print(np.ones(2)) # Vector de unos de 2 elementos\n",
    "print(np.zeros([2, 3])) # Matriz rectangular de ceros de 2 filas y 3 columnas\n",
    "print(np.eye(3)) # Matriz identidad de 3x3\n",
    "print(np.arange(2, 5, 0.5)) # Equivalente a `range` para flotantes\n",
    "print(np.linspace(1, 3, 11)) # Intervalo cerrado de 11 datos entre 1 y 3.\n",
    "print(np.random.random([3, 2])) # Matriz aleatoria de 3x2"
   ]
  },
  {
   "cell_type": "markdown",
   "metadata": {},
   "source": [
    "## Álgebra lineal con Numpy\n",
    "\n",
    "Los arreglos en Numpy no son directamente vectores ni matrices en el sentido matemático, por lo cual los operadores aritméticos entre los arreglos no operan como en el álgebra lineal. En su lugar, las operaciones se hacen elemento a elemento, lo que coincide con la suma y resta de matrices."
   ]
  },
  {
   "cell_type": "code",
   "execution_count": 42,
   "metadata": {},
   "outputs": [
    {
     "name": "stdout",
     "output_type": "stream",
     "text": [
      "[[1. 0.]\n",
      " [0. 1.]]\n",
      "[[1. 3.]\n",
      " [5. 7.]]\n"
     ]
    }
   ],
   "source": [
    "I2 = np.eye(2)\n",
    "L2 = np.linspace(1, 7, 4).reshape(2, 2)\n",
    "print(I2)\n",
    "print(R2) "
   ]
  },
  {
   "cell_type": "code",
   "execution_count": 43,
   "metadata": {},
   "outputs": [
    {
     "name": "stdout",
     "output_type": "stream",
     "text": [
      "[[2. 3.]\n",
      " [5. 8.]]\n",
      "[[ 0. -3.]\n",
      " [-5. -6.]]\n"
     ]
    }
   ],
   "source": [
    "print(I2 + L2) # Suma de arreglos/matrices\n",
    "print(I2 - L2) # Resta de arreglos/matrices"
   ]
  },
  {
   "cell_type": "markdown",
   "metadata": {},
   "source": [
    "Para el producto matricial es necesario usar la función `dot`. En el caso de la potencia se requiere la función especifica del módulo `linalg`."
   ]
  },
  {
   "cell_type": "code",
   "execution_count": 60,
   "metadata": {},
   "outputs": [
    {
     "name": "stdout",
     "output_type": "stream",
     "text": [
      "[[1. 0.]\n",
      " [0. 7.]]\n",
      "[[1. 3.]\n",
      " [5. 7.]]\n",
      "[[ 1.  9.]\n",
      " [25. 49.]]\n",
      "[[16. 24.]\n",
      " [40. 64.]]\n"
     ]
    }
   ],
   "source": [
    "print(I2 * L2) # Producto elemento a elemento\n",
    "print(np.dot(I2, L2)) # Producto matricial\n",
    "print(L2**2) # Potencia elemento a elemento\n",
    "print(np.linalg.matrix_power(L2, 2)) # Potencia matricial"
   ]
  },
  {
   "cell_type": "markdown",
   "metadata": {},
   "source": [
    "Se pueden obtener propiedades matriciales como la transpuesta y la diagonal de la matriz a partir de métodos del arreglo, y algunas operaciones como la inversa, el determinante, autovalores y norma con funciones de Numpy."
   ]
  },
  {
   "cell_type": "code",
   "execution_count": 56,
   "metadata": {},
   "outputs": [
    {
     "name": "stdout",
     "output_type": "stream",
     "text": [
      "[[1. 5.]\n",
      " [3. 7.]]\n",
      "[1. 7.]\n",
      "[[-0.875  0.375]\n",
      " [ 0.625 -0.125]]\n",
      "-7.999999999999998\n",
      "(array([-0.89897949,  8.89897949]), array([[-0.84494897, -0.35505103],\n",
      "       [ 0.53484692, -0.93484692]]))\n",
      "9.273618495495704\n"
     ]
    }
   ],
   "source": [
    "print(L2.T) # Transpuesta de la matriz\n",
    "print(L2.diagonal()) # Diagonal de la matriz\n",
    "print(np.linalg.inv(L2)) # Matriz inversa\n",
    "print(np.linalg.det(L2)) # Determinante de la matriz\n",
    "print(np.linalg.eig(L2)) # Autovalores y autovectores\n",
    "print(np.linalg.norm(b)) # Norma vectorial o matricial"
   ]
  },
  {
   "cell_type": "markdown",
   "metadata": {},
   "source": [
    "También es posible solucionar sistemas matriciales $Ax=b$."
   ]
  },
  {
   "cell_type": "code",
   "execution_count": 61,
   "metadata": {},
   "outputs": [
    {
     "data": {
      "text/plain": [
       "array([ 1.12244898,  0.24489796, -0.2244898 ])"
      ]
     },
     "execution_count": 61,
     "metadata": {},
     "output_type": "execute_result"
    }
   ],
   "source": [
    "# A y b definidos al inicio de la sección\n",
    "np.linalg.solve(A, b) # Solución del sistema Ax=b"
   ]
  },
  {
   "cell_type": "markdown",
   "metadata": {},
   "source": [
    "## Funciones sobre arreglos\n",
    "\n",
    "Numpy define funciones universales para usar sobre arreglos, que funcionan como los operadores por defecto, elemento a elemento. Esto facilita la aplicación de funciones matemáticas de manera rápida sobre conjuntos de datos."
   ]
  },
  {
   "cell_type": "code",
   "execution_count": 63,
   "metadata": {},
   "outputs": [
    {
     "name": "stdout",
     "output_type": "stream",
     "text": [
      "[0.00000000e+00 7.07106781e-01 8.66025404e-01 1.00000000e+00\n",
      " 1.22464680e-16]\n",
      "[ 1.00000000e+00  7.07106781e-01  5.00000000e-01  6.12323400e-17\n",
      " -1.00000000e+00]\n",
      "[ 1.          2.19328005  2.84965391  4.81047738 23.14069263]\n"
     ]
    }
   ],
   "source": [
    "PI = np.pi\n",
    "angulos = np.array([0, PI/4, PI/3, PI/2, PI])\n",
    "print(np.sin(angulos))\n",
    "print(np.cos(angulos))\n",
    "print(np.exp(angulos))"
   ]
  },
  {
   "cell_type": "markdown",
   "metadata": {},
   "source": [
    "## Estadística\n",
    "\n",
    "Numpy contiene funciones que permiten realizar estadísticas de los datos de arreglos."
   ]
  },
  {
   "cell_type": "code",
   "execution_count": 64,
   "metadata": {},
   "outputs": [
    {
     "name": "stdout",
     "output_type": "stream",
     "text": [
      "[4.97088941 8.00916116 7.95396825 4.69735413 7.77246734 0.3751024\n",
      " 2.94801914 9.41071047 9.06216093 6.05625007 1.42816193 2.83481552\n",
      " 1.06499518 6.56619263 7.60059371]\n"
     ]
    }
   ],
   "source": [
    "muestra = np.random.random(15)*10 # Datos\n",
    "print(muestra)"
   ]
  },
  {
   "cell_type": "code",
   "execution_count": 66,
   "metadata": {},
   "outputs": [
    {
     "name": "stdout",
     "output_type": "stream",
     "text": [
      "0.37510240000154904\n",
      "9.410710468509794\n",
      "5.383389484108671\n",
      "6.056250065755028\n",
      "2.9231607402609954\n"
     ]
    }
   ],
   "source": [
    "print(muestra.min()) # Muestra el menor elemento\n",
    "print(muestra.max()) # Muestra el máximo elemento\n",
    "print(muestra.mean()) # Muestra la media de los elementos\n",
    "print(np.median(muestra)) # Muestra la mediana de los elementos\n",
    "print(muestra.std()) # Desviación estándar"
   ]
  },
  {
   "cell_type": "markdown",
   "metadata": {},
   "source": [
    "## Actividad\n",
    "\n",
    "Dado el sistema de ecuaciones lineales,\n",
    "\n",
    "\\begin{eqnarray}\n",
    "2x + y & = & 5\\\\\n",
    "-x + y & = & 2\n",
    "\\end{eqnarray}\n",
    "\n",
    "1.  Forme el sistema matricial $Ax=b$ equivalente.  \n",
    "1.  Cree los arreglos Numpy correspondientes a la matriz $A$ y el vector $b$.  \n",
    "1.  Calcule con Numpy el determinante y autovalores (sin autovectores) de $A$.  \n",
    "1.  Encuentre la solución para $x$ con ayuda de Numpy.  \n",
    "1.  Calcula la norma euclideana con Numpy del vector solución $x$.  \n",
    "1.  Calcule el logaritmo natural sobre el vector solución $x$ con funciones universales de Numpy.  "
   ]
  },
  {
   "cell_type": "markdown",
   "metadata": {},
   "source": [
    "## Recursos adicionales\n",
    "\n",
    "Para complementar el aprendizaje de Numpy y su instalación, se recomiendas las siguientes fuentes:\n",
    "\n",
    "+   [Numpy User Guide](https://docs.scipy.org/doc/numpy/user/).  \n",
    "+   [MATLAB to Python: A migration guide](https://www.enthought.com/wp-content/uploads/Enthought-MATLAB-to-Python-White-Paper.pdf).  "
   ]
  }
 ],
 "metadata": {
  "kernelspec": {
   "display_name": "Python 3",
   "language": "python",
   "name": "python3"
  },
  "language_info": {
   "codemirror_mode": {
    "name": "ipython",
    "version": 3
   },
   "file_extension": ".py",
   "mimetype": "text/x-python",
   "name": "python",
   "nbconvert_exporter": "python",
   "pygments_lexer": "ipython3",
   "version": "3.6.5"
  }
 },
 "nbformat": 4,
 "nbformat_minor": 2
}
