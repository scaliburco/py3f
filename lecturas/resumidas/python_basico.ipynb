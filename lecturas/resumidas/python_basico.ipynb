{
 "cells": [
  {
   "cell_type": "markdown",
   "metadata": {},
   "source": [
    "# Python\n",
    "\n",
    "Python es un lenguaje de programación multiplataforma (soporta Windows, Linux, Mac e incluso existen versiones para móvil) orientado a objetos e interpretado (el código ejecutable no es optimizado para la máquina en cuestión y siempre requiere del código fuente para su uso). Es un lenguaje con una gran comunidad usándolo en diversas disciplinas lo cual facilita encontrar muchos paquetes útiles para diferentes labores, entre ellas la modelación computacional, y una base/núcleo del lenguaje listo para muchas tareas (sin requerir instalaciones adicionales existen múltiples utilidades que no son básicas, como el manejo de bases de datos SQLite, solicitudes web, análisis semántico de HTML, protocolos de correo e interfaces gráficas con TK).  \n",
    "\n",
    "Al día de hoy la última versión liberada de Python es la 3.7.0 pero recomendamos para el uso de la versión 3.6.5 e instalarlo usando la distribución de Python Anaconda.  "
   ]
  },
  {
   "cell_type": "markdown",
   "metadata": {},
   "source": [
    "## Tipos de datos y operaciones\n",
    "\n",
    "Los tipos de datos básicos que encontramos en Python3 son numéricos, lógicos y cadenas de caracteres. Aparte de estos, podemos destacar la existencia de los contenedores que permiten la agrupación de datos (incluso de diverso tipo) en una misma variable. Es importante tener en cuenta que la asignación en variables es necesaria para la reutilización de sus valores en partes posteriores de un código y ayuda a la legibilidad del mismo. Igualmente, para todos los tipos de variables, podemos realizar la impresión del valor por medio de la función interna `print` (la cual usaremos para ver los resultados de nuestras manipulaciones, pero no es necesaria en una consola interactiva como *Jupyter*).    "
   ]
  },
  {
   "cell_type": "code",
   "execution_count": 7,
   "metadata": {},
   "outputs": [
    {
     "name": "stdout",
     "output_type": "stream",
     "text": [
      "5\n"
     ]
    }
   ],
   "source": [
    "a = 5 # Esto es una asignación de un valor de tipo entero a una variable `a`.\n",
    "print(a) # Se imprime el valor de `a` en la salida estándar. El dato se convierte implícitamente."
   ]
  },
  {
   "cell_type": "markdown",
   "metadata": {},
   "source": [
    "Los tipos de datos numéricos pueden ser enteros o flotantes (el equivalente de los reales) y en unión al sufijo `j`, la construcción de imaginarios y complejos es posible. Python da soporte de las operaciones aritméticas para datos numéricos, teniendo presente que la operación de potencia se usa con `**`, una raíz es lo mismo que una potencia al inverso del índice de la raíz y el operador módulo es `%`."
   ]
  },
  {
   "cell_type": "code",
   "execution_count": 1,
   "metadata": {},
   "outputs": [
    {
     "name": "stdout",
     "output_type": "stream",
     "text": [
      "5\n",
      "9.2\n",
      "2.25\n",
      "1.5\n",
      "1.2100000000000002\n",
      "2.0\n",
      "(1-7j)\n",
      "(4+4j)\n"
     ]
    }
   ],
   "source": [
    "print(2 + 3) # Suma: debe imprimir 5\n",
    "print(2.3 * 4) # Producto: debe imprimir 9.2\n",
    "print(9/4) # División: debe imprimir 2.25\n",
    "print(3 - 1.5) # Resta: debe imprimir 1.5\n",
    "print(1.1**2) # Potenciación: debe imprimir 1.21\n",
    "print(4**0.5) # Raíz: debe imprimir 2.0 (la potencia 0.5 es lo mismo que la raíz cuadrada)\n",
    "print(5%2) # Módulo (residuo): debe imprimir 1 (residuo de la división entera entre 5 y 2)\n",
    "print(1-7j) # Número complejo\n",
    "print(4 - 2j + 6j) # Operaciones con números complejos: debe imprimir 4 + 4j"
   ]
  },
  {
   "cell_type": "markdown",
   "metadata": {},
   "source": [
    "Los valores lógicos correspondientes al álgebra booleana y las tablas de verdad, verdadero y falso, se usan en Python como `True` y `False` respectivamente. Dado que python distingue entre mayúsculas y minúsculas, es importante notar la mayúscula inicial de los valores lógicos. Internamente distintos tipos de datos poseen equivalencias a los valores lógicos para permitir ahorrar pasos de conversión, como por ejemplo los datos numéricos son equivalentes a `True` siempre que el valor sea distinto de cero, y si es cero equivale a `False`. En las cadenas de caracteres, es `True` cualquier cadena que tenga al menos un carácter.  "
   ]
  },
  {
   "cell_type": "code",
   "execution_count": 6,
   "metadata": {},
   "outputs": [
    {
     "name": "stdout",
     "output_type": "stream",
     "text": [
      "True\n",
      "False\n",
      "False\n"
     ]
    }
   ],
   "source": [
    "print(True or False) # Operador lógico \"o\" (disyunción): debe imprimir True.\n",
    "print(True and False) # Operador lógico \"y\" (conjunción): debe imprimir False.\n",
    "print(not(True)) # Operador lógico \"no\" (negación): debe imprimir False."
   ]
  },
  {
   "cell_type": "markdown",
   "metadata": {},
   "source": [
    "Finalmente, las cadenas de caracteres son en si mismos contenedores, pero no se distingue entre carácter y cadena de caracteres como sucede en otros lenguajes (*char* y *string*). Al ser este un contenedor se puede hablar de elementos que le pertenecen y en particular, este es un contenedor ordenado, por lo cual es posible hablar de posiciones en él. Una cadena de caracteres es delimitada por comillas simples (`'`) o altas (`\"`).\n",
    "\n",
    "En las cadenas de caracteres, la manipulación que se realiza es principalmente recurriendo a métodos de la clase `string` (orientación a objetos), pero se pueden usar algunos operadores y funciones internas (*built-in*) para manipulaciones frecuentes como la concatenación, repetición y longitud."
   ]
  },
  {
   "cell_type": "code",
   "execution_count": 14,
   "metadata": {},
   "outputs": [
    {
     "name": "stdout",
     "output_type": "stream",
     "text": [
      "Hola mundo\n",
      "Hola mundoHola mundoHola mundoHola mundoHola mundo\n",
      "10\n",
      "l\n"
     ]
    }
   ],
   "source": [
    "texto1 = 'Hola' # Cadena de caracteres delimitada por comillas simples\n",
    "texto2 = \"mundo\" # Cadena de caracteres delimitada por comillas altas.\n",
    "texto_concatenado = texto1 + \" \" + texto2 # el operador `+` equivale a la concatenación de texto\n",
    "print(texto_concatenado) # Debe imprimir \"Hola mundo\"\n",
    "print(texto_concatenado * 5) # Repetición: debe imprimir 5 veces el texto anterior.\n",
    "print(len(texto_concatenado)) # Longitud de cadena: debe imprimir 10. Los espacios y símbolos en general cuentan.\n",
    "print(texto1[2]) # Indexación: debe imprimir \"l\" (el primer elemento está en la posición cero)"
   ]
  },
  {
   "cell_type": "markdown",
   "metadata": {},
   "source": [
    "A parte de las cadenas de caracteres, hay otros contenedores definidos en el lenguaje Python que son listas, tuples, conjuntos y diccionarios. Las listas y los tuples poseen indíces, los conjuntos no son ordenados y no permiten elementos duplicados, los diccionarios asocian claves y valores a las mismas, los tuples son inmutables (una vez definidos no se puede cambiar su valor). Para mayor claridad, siempre se recomienda manipular los contenedores accediendo a los métodos definidos en sus clases, esto se con un `.` (punto) después de la variable seguida del nombre del método. Todos los contenedores definen una longitud que puede ser accedida con la función interna `len`.  \n",
    "\n",
    "A continuación se ejemplifican manipulaciones sobre los contenedores."
   ]
  },
  {
   "cell_type": "code",
   "execution_count": 18,
   "metadata": {},
   "outputs": [
    {
     "name": "stdout",
     "output_type": "stream",
     "text": [
      "[1, 2, 3]\n",
      "[1, 2, 3, 5]\n",
      "[1, 2, 3, 5, 7, 9]\n",
      "1\n",
      "9\n",
      "[2, 3]\n",
      "[1, 2, 10, 3, 5, 7, 9]\n"
     ]
    }
   ],
   "source": [
    "lista_ej = [1, 2, 3] # Esto es una lista\n",
    "print(lista_ej) # Imprimimos la lista original\n",
    "lista_ej.append(5) # Añadimos un nuevo elemento al final\n",
    "print(lista_ej) # Validamos que ha sido añadido\n",
    "lista_ej.extend([7, 9]) # Añadimos elementos a partir de una lista\n",
    "print(lista_ej) # Validamos que han sido añadidos los elementos\n",
    "print(lista_ej[0]) # Accedemos al primer elemento\n",
    "print(lista_ej[-1]) # Accedemos al último elemento\n",
    "print(lista_ej[1:3]) # Accedemos al elemento 1 y 2 (imprime 2 y 3)\n",
    "lista_ej.insert(2, 10) # Inserta en la posición 2 el valor 10. Los elementos siguientes se desplazan\n",
    "print(lista_ej)"
   ]
  },
  {
   "cell_type": "markdown",
   "metadata": {},
   "source": [
    "Las posibilidades con tuples se ilustran en su totalidad en el siguiente bloque de código. No hay más métodos disponibles que los ilustrados."
   ]
  },
  {
   "cell_type": "code",
   "execution_count": 2,
   "metadata": {},
   "outputs": [
    {
     "name": "stdout",
     "output_type": "stream",
     "text": [
      "(3, 4, 5, 3)\n",
      "4\n",
      "2\n",
      "0\n"
     ]
    }
   ],
   "source": [
    "tuple_ej = (3, 4, 5, 3) # Esto es un tuple\n",
    "print(tuple_ej) # Imprime el tuple original\n",
    "print(tuple_ej[1]) # Debe imprimir el elemento de la posición 1, 4\n",
    "print(tuple_ej.count(3)) # Imprime el número de ocurrencias del elemento indicado como argumento. Debe imprimir 2 (número de veces del 3)\n",
    "print(tuple_ej.index(3)) # Imprime el índice de la primera aparición del elemento, en este caso 0. El método también existe en las listas."
   ]
  },
  {
   "cell_type": "code",
   "execution_count": 4,
   "metadata": {},
   "outputs": [
    {
     "name": "stdout",
     "output_type": "stream",
     "text": [
      "{'lenguaje': 'python', 'version': 3}\n",
      "python\n",
      "python\n",
      "{'lenguaje': 'python', 'version': 3, 'tipo': 'interpretado'}\n"
     ]
    }
   ],
   "source": [
    "diccionario_ej = {\"lenguaje\": \"python\", \"version\": 3} # Esto es un diccionario\n",
    "print(diccionario_ej) # Imprime diccionario original\n",
    "print(diccionario_ej.get(\"lenguaje\")) # Debe imprimir el valor asociado a la clave 'lenguaje', 'python'.\n",
    "print(diccionario_ej[\"lenguaje\"]) # Otra forma de acceder al valor de la clave\n",
    "diccionario_ej.update({\"tipo\": \"interpretado\"}) # Actualiza el diccionario con una nueva clave\n",
    "print(diccionario_ej) # Verificamos la actualización del diccionario"
   ]
  },
  {
   "cell_type": "markdown",
   "metadata": {},
   "source": [
    "En general los tipos de datos que son contenedores, se les puede aplicar operadores de pertenencia como en la teoría de conjuntos. Estos son `in` para saber si el elemento pertenece y `not in` para saber si el elemento no pertenece.  "
   ]
  },
  {
   "cell_type": "code",
   "execution_count": 23,
   "metadata": {},
   "outputs": [
    {
     "name": "stdout",
     "output_type": "stream",
     "text": [
      "True\n",
      "False\n",
      "False\n",
      "True\n"
     ]
    }
   ],
   "source": [
    "# Lista de planetas del sistema solar\n",
    "planetas = [\"Mercurio\", \"Venus\", \"Tierra\", \"Marte\", \"Júpiter\", \"Saturno\", \"Urano\", \"Neptuno\"]\n",
    "print(\"Venus\" in planetas) # Se pregunta por la pertenencia. Dado que lo incluye imprime True\n",
    "print(\"Plutón\" in planetas) # Se pregunta por la pertenencia. Dado que no lo incluye imprime False.\n",
    "print(\"Tierra\" not in planetas) # Se pregunta por la no pertenencia. Dado que lo incluye imprime False\n",
    "print(\"Vulcano\" not in planetas) # Se pregunta por la no pertenencia. Dado que no lo incluye imprime True"
   ]
  },
  {
   "cell_type": "markdown",
   "metadata": {},
   "source": [
    "Para operaciones más elaboradas de la teoría de conjuntos, se puede usar el contenedor de conjuntos."
   ]
  },
  {
   "cell_type": "code",
   "execution_count": 9,
   "metadata": {},
   "outputs": [
    {
     "name": "stdout",
     "output_type": "stream",
     "text": [
      "{1, 2, 3}\n",
      "{1, 2, 3, 6}\n",
      "{1, 2}\n",
      "{3}\n"
     ]
    }
   ],
   "source": [
    "conjunto_ej1 = {1, 2, 3, 1} # Esto es un conjunto.\n",
    "print(conjunto_ej1) # Se observa que se eliminó el 1 repetido\n",
    "conjunto_ej2 = {2, 6, 1}\n",
    "print(conjunto_ej1.union(conjunto_ej2)) # Imprime la unión de los dos conjuntos: 1, 2, 3, 6\n",
    "print(conjunto_ej1.intersection(conjunto_ej2)) # Imprime la intersección de los dos conjuntos: 1, 2\n",
    "print(conjunto_ej1.difference(conjunto_ej2)) # Imprime la diferencia del conjunto 1 respecto al 2: 3"
   ]
  },
  {
   "cell_type": "markdown",
   "metadata": {},
   "source": [
    "También se definen los operadores relacionales, y su comportamiento depende del tipo de dato. En los valores numéricos es acorde a su posición en la recta numérica (enteros y flotantes), en las cadenas de caracteres es según el orden alfabético y en los demás contenedores es según su longitud."
   ]
  },
  {
   "cell_type": "code",
   "execution_count": 1,
   "metadata": {},
   "outputs": [
    {
     "name": "stdout",
     "output_type": "stream",
     "text": [
      "True\n",
      "True\n",
      "True\n",
      "True\n",
      "False\n",
      "False\n",
      "True\n"
     ]
    }
   ],
   "source": [
    "print(5 < 10)\n",
    "print(7 >= 7)\n",
    "print(6 != 5) # Operador \"es diferente\"\n",
    "print(\"zapato\" > \"esternocleidomastoideo\")\n",
    "print(\"ojo\" <= \"hoja\")\n",
    "print([1, 2] > [5, 6, 7])\n",
    "print([1, 0] == [1, 0])"
   ]
  },
  {
   "cell_type": "markdown",
   "metadata": {},
   "source": [
    "El operador de igualdad o las desigualdades flexibles, considerar la igualdad bajo la coincidencia del valor. Esta aclaración es importante en los contenedores donde las desigualdades estrictas se basan en la longitud (igual longitud no es igual el elemento)."
   ]
  },
  {
   "cell_type": "markdown",
   "metadata": {},
   "source": [
    "## Estructuras de control\n",
    "\n",
    "Las estructuras de control son los elementos que guían el flujo de datos a través del código. Esencialmente se pueden mencionar las estructuras condicionales, cíclicas y manejados de errores. Las estructuras de control permiten crear acciones según valores lógicos generados por expresiones cuya salida sea de tipo lógico (se recomienda para esta parte tener muy presente los operadores lógicos, relacionales y de pertenencia).   \n",
    "\n",
    "Es importante aquí, recalcar que las estructuras requieren el uso de sangría para determinar cuando se entra o se sale de la misma. La línea que abre la estructura termina con `:` y las siguientes se sangran a 4 espacios (se recomienda configurar el editor de código para convertir una tabulación en 4 espacios). Para salir de la estructura se remueve el sangrado.  "
   ]
  },
  {
   "cell_type": "markdown",
   "metadata": {},
   "source": [
    "Las estructuras condicionales realizan validación de una condición (o secuencia de condiciones) una sola vez, y según la primera que ocurra se realiza la ejecución de las sentencias presentes en su bloque. En Python, tenemos solo la estructura `if ... elif ... else`. La única parte obligatoria de la estructura es `if` para evaluar la expresión lógica, y en caso de ser verdadera ejecutar sus sentencias. Si se desea agregar condiciones adicionales, usamos `elif` de la misma forma, con la expresión lógica a su lado. Finalmente, usamos `else` para establecer una ejecución por defecto cuando las condiciones revisadas no se cumplen."
   ]
  },
  {
   "cell_type": "code",
   "execution_count": 15,
   "metadata": {},
   "outputs": [
    {
     "name": "stdout",
     "output_type": "stream",
     "text": [
      "Nota ganada\n"
     ]
    }
   ],
   "source": [
    "nota = 3.5\n",
    "if (nota < 0) or (nota > 5):\n",
    "    print(\"Nota inválida\")\n",
    "elif nota < 3:\n",
    "    print(\"Nota perdida\")\n",
    "else: # Caso sobrante\n",
    "    print(\"Nota ganada\")"
   ]
  },
  {
   "cell_type": "markdown",
   "metadata": {},
   "source": [
    "En las estructuras cíclicas podemos encontrar los ciclos `while` (mientras) y `for` (para). En el primero la repetición de un bloque de sentencias se da si la evaluación de una expresión lógica es verdadera. En el caso de la segunda, es un caso particular donde la expresión es de pertenencia (se recorren todos los elementos pertenecientes al contenedor dispuesto)."
   ]
  },
  {
   "cell_type": "code",
   "execution_count": 14,
   "metadata": {},
   "outputs": [
    {
     "name": "stdout",
     "output_type": "stream",
     "text": [
      "2\n",
      "4\n",
      "16\n"
     ]
    }
   ],
   "source": [
    "cont = 2\n",
    "while cont < 21:\n",
    "    print(cont)\n",
    "    cont = cont**2"
   ]
  },
  {
   "cell_type": "code",
   "execution_count": 12,
   "metadata": {},
   "outputs": [
    {
     "name": "stdout",
     "output_type": "stream",
     "text": [
      "Ojala Bart supiera programar.\n",
      "Ojala Bart supiera programar.\n",
      "Ojala Bart supiera programar.\n",
      "Ojala Bart supiera programar.\n",
      "Ojala Bart supiera programar.\n",
      "Ojala Bart supiera programar.\n",
      "Ojala Bart supiera programar.\n",
      "Ojala Bart supiera programar.\n",
      "Ojala Bart supiera programar.\n",
      "Ojala Bart supiera programar.\n"
     ]
    }
   ],
   "source": [
    "for numero in range(10):\n",
    "    print(\"Ojala Bart supiera programar.\")"
   ]
  },
  {
   "cell_type": "markdown",
   "metadata": {},
   "source": [
    "En el ciclo `for` del ejemplo vemos un generador, `range`, que es equivalente a un contenedor cuya única función es recorrer sus elementos. Es una forma eficiente de crear contenedores de números que siguen una secuencia. El argumento de `range` es una unidad superior al límite superior deseado (en general, se está creando un intervalo semiabierto a la derecha)."
   ]
  },
  {
   "cell_type": "markdown",
   "metadata": {},
   "source": [
    "Finalmente la estructura de manejo de errores permite hacer captura de errores durante la ejecución para evitar una finalización esperada de la ejecución. Cuando ocurren errores en la ejecución, esta termina a menos que se capture el error y de paso es posible hacer un manejo del mismo (como darle una advertencia al usuario o hacer un procedimiento alternativo)."
   ]
  },
  {
   "cell_type": "code",
   "execution_count": 17,
   "metadata": {},
   "outputs": [
    {
     "name": "stdout",
     "output_type": "stream",
     "text": [
      "Solo Chuck Norris puede dividir por cero.\n"
     ]
    }
   ],
   "source": [
    "dividendo = 10\n",
    "divisor = 0\n",
    "try:\n",
    "    cociente = dividendo / divisor\n",
    "except:\n",
    "    print(\"Solo Chuck Norris puede dividir por cero.\")"
   ]
  },
  {
   "cell_type": "markdown",
   "metadata": {},
   "source": [
    "## Funciones y módulos"
   ]
  },
  {
   "cell_type": "markdown",
   "metadata": {},
   "source": [
    "Podemos definir funciones para facilitar la legibilidad y reutilización de código cuando tenemos líneas de código recurrentes en el programa. Por ejemplo, en un mismo programa se calcula varias veces la altura de una caída libre y ello implica usar la misma forma de líneas (solo cambiando variables o números), así que podemos hacer una función para ello.  \n",
    "\n",
    "Las funciones requieren iniciar la línea con `def` para indicar que se definirá una función. A continuación sigue el nombre que daremos a la función y finalmente paréntesis. Dentro de los paréntesis van los argumentos de la función separados por coma (si no requiere argumentos se deja vacío el paréntesis).  \n",
    "\n",
    "Hay varios tipos de argumentos: obligatorios que van al inicio, opcionales que poseen indicación de su valor por defecto en caso de estar ausentes (se acompañan de la asignación), argumentos opcionales sin valor por defecto (`*args`) y argumentos opcionales con clave (`**kwargs`)."
   ]
  },
  {
   "cell_type": "code",
   "execution_count": 19,
   "metadata": {},
   "outputs": [],
   "source": [
    "def altura_caida(t, g=9.76): # Definición de función con un argumento obligatorio y uno opcional.\n",
    "    return 0.5 * g * t**2 # Retorno de la función."
   ]
  },
  {
   "cell_type": "code",
   "execution_count": 20,
   "metadata": {},
   "outputs": [
    {
     "name": "stdout",
     "output_type": "stream",
     "text": [
      "19.52\n",
      "20.0\n"
     ]
    }
   ],
   "source": [
    "print(altura_caida(2)) # Al estar ausente el segundo argumento toma el valor por defecto definido.\n",
    "print(altura_caida(2, 10)) # Si se ingresa el segundo argumento, usa el ingresado."
   ]
  },
  {
   "cell_type": "markdown",
   "metadata": {},
   "source": [
    "Se pueden crear módulos para compartir nuestras funciones, clases y constantes en un archivo o para permitir su reutilización de una manera más simple. Para ello es necesario guardar estas definiciones en un archivo `.py`, donde el nombre del archivo será el nombre del módulo y por ende el nombre usado para su invocación.  \n",
    "\n",
    "Existen tres formas para realizar los llamados a las definiciones en los módulos, y se ilustraran con módulos existentes en el núcleo de Python:"
   ]
  },
  {
   "cell_type": "markdown",
   "metadata": {},
   "source": [
    "Se puede importar el nombre de la función de manera explícita desde el módulo que la contiene. Para hacer uso de la función se llama directamente con su nombre."
   ]
  },
  {
   "cell_type": "code",
   "execution_count": 1,
   "metadata": {},
   "outputs": [
    {
     "name": "stdout",
     "output_type": "stream",
     "text": [
      "2.0\n"
     ]
    }
   ],
   "source": [
    "from math import sqrt\n",
    "print(sqrt(4))"
   ]
  },
  {
   "cell_type": "markdown",
   "metadata": {},
   "source": [
    "Se puede importar el módulo y posteriormente invocar la función desde el espacio de nombres del módulo, usando el nombre del módulo seguido de punto y el nombre de la función."
   ]
  },
  {
   "cell_type": "code",
   "execution_count": 2,
   "metadata": {},
   "outputs": [
    {
     "name": "stdout",
     "output_type": "stream",
     "text": [
      "6\n"
     ]
    }
   ],
   "source": [
    "import random\n",
    "print(random.randint(2, 15))"
   ]
  },
  {
   "cell_type": "markdown",
   "metadata": {},
   "source": [
    "Finalmente se puede importar todos los elementos visibles en un módulo y que estos se accedan directamente con su nombre. Esta forma no es recomendable por posibles colisiones de nombre (si el mismo nombre es importado desde distintos módulos) y hacer la revisión de código es compleja al no saber la procedencia de la función."
   ]
  },
  {
   "cell_type": "code",
   "execution_count": 27,
   "metadata": {},
   "outputs": [
    {
     "name": "stdout",
     "output_type": "stream",
     "text": [
      "['matplotlib_fourier.py', 'tubo_seccion_variable.py', 'circulo_Mohr_interactivo.ipynb', 'datos_aleatorios.txt', 'datos_tubo.txt', '.ipynb_checkpoints', 'graficos_2D.py', 'python_basico.ipynb', 'genera_aleatorios.py', 'tubo_seccion_variable.txt', 'matplotlib_slider.py', 'leer_linea_a_linea.py', 'tipos_datos.ipynb', 'numpy_basico.ipynb', 'mensaje_insulso.txt', 'ejemplo_colores.py', 'escribir_linea_a_linea.py', 'revisar_primo.py', 'tubos_seccion_variable.py', 'remedo_himno.txt', 'suma_tabla.py']\n"
     ]
    }
   ],
   "source": [
    "from os import * # Importa para uso directo todos los elementos disponibles en `os` (no recomendable)\n",
    "print(listdir())"
   ]
  },
  {
   "cell_type": "markdown",
   "metadata": {},
   "source": [
    "# Actividad\n",
    "\n",
    "1.  ¿Cuál es la diferencia entre los números flotantes y los números reales?\n",
    "1.  Realice un código en Python que permita ilustrar la diferencia de operar números flotantes respecto a números reales.  \n",
    "1.  Realice un código en Python que determine el número de veces que se repite el carácter 'a' en el nombre de su docente.   \n",
    "1.  Realice una función que reciba un número complejo y determine su módulo.  \n",
    "1.  Realice una función que determine el área de un triángulo dadas las longitudes de sus lados.  \n",
    "1.  Realice una rutina que imprima la tabla de verdad correspondiente a $\\neg(\\neg A \\wedge B) \\vee C$, calculando el valor de verdad final con los operadores lógicos. Debe tener adecuada alineación la tabla.  \n",
    "1.  Realice de dos maneras diferentes un código que le ayude a hacer una plana de 5000 repeticiones que digan \"Yo voy a ganar la materia.\". Debe ser repetición por línea.  \n",
    "1.  Elabore una función para determinar si un producto dado se encuentra en la lista de mercado. La función debe recibir como primer argumento una lista de cadena de caracteres cuyos elementos son los productos a comprar y el segundo argumento es una cadena de caracteres que representa el producto que deseamos consultar si fue incluido. La función debe retornar \"Incluido\" si ya estaba en la lista y \"Falta\" si no lo está.  \n",
    "1.  Realice un diccionario donde el campo de clave corresponda a un número y el campo de valor al nombre de alguien (ingrese al menos 3 elementos). Realice ahora una función que al recibir como primer argumento un diccionario y segundo argumento un número, retorne el nombre del individuo si existe el número y retorne \"ausente\" si no está el número.\n",
    "1.  Desarrolle un módulo `geometria` con funciones para el cálculo del área de al menos dos geometrías planas y del volumen de dos sólidos. Luego, desde la consola importe el módulo y haga uso de las funciones definidas."
   ]
  },
  {
   "cell_type": "markdown",
   "metadata": {},
   "source": [
    "# Recursos adicionales\n",
    "\n",
    "Para complementar el aprendizaje de Python y su instalación, se recomiendas las siguientes fuentes:  \n",
    "\n",
    "+   [Anaconda Python](https://docs.anaconda.com/anaconda/install/).  \n",
    "+   [Curso de introducción a Python3](https://github.com/saint-germain/Python3Espanol).  \n",
    "+   [Automate the boring stuff with Python](https://automatetheboringstuff.com/).  \n",
    "+   [StackOverflow](https://stackoverflow.com/questions/tagged/python).  \n",
    "+   [Programming with Python - Software Carpentry](http://swcarpentry.github.io/python-novice-inflammation/).  \n",
    "+   [Python Documentation](https://docs.python.org/3.6/).  \n",
    "+   [The Python Tutorial](https://docs.python.org/3/tutorial/).  "
   ]
  }
 ],
 "metadata": {
  "kernelspec": {
   "display_name": "Python 3",
   "language": "python",
   "name": "python3"
  },
  "language_info": {
   "codemirror_mode": {
    "name": "ipython",
    "version": 3
   },
   "file_extension": ".py",
   "mimetype": "text/x-python",
   "name": "python",
   "nbconvert_exporter": "python",
   "pygments_lexer": "ipython3",
   "version": "3.6.5"
  }
 },
 "nbformat": 4,
 "nbformat_minor": 2
}
